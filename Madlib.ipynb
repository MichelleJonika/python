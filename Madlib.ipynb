{
 "cells": [
  {
   "cell_type": "code",
   "execution_count": null,
   "metadata": {},
   "outputs": [],
   "source": [
    "\"\"\"\n",
    "This program generates passages that are generated in mad-lib format\n",
    "Author: Michelle \n",
    "\"\"\"\n",
    "\n",
    "# This is a MadLib that uses strings \n",
    "print \"Mad libs has started\"\n",
    "\n",
    "name = raw_input(\"Enter a name: \")\n",
    "adjective1 = raw_input(\"Enter an adjective: \")\n",
    "adjective2 = raw_input(\"Enter another adjective: \")\n",
    "adjective3 = raw_input(\"Enter the last adjective: \")\n",
    "\n",
    "verb = raw_input(\"Enter a verb: \")\n",
    "noun1 = raw_input(\"Enter a noun: \")\n",
    "noun2 = raw_input(\"Enter another noun: \")\n",
    "\n",
    "animal = raw_input(\"Enter an animal: \")\n",
    "food = raw_input(\"Enter a food: \")\n",
    "fruit = raw_input(\"Enter a fruit: \")\n",
    "superhero = raw_input(\"Enter a superhero: \")\n",
    "country = raw_input(\"Enter a country: \")\n",
    "dessert = raw_input(\"Enter a dessert: \")\n",
    "year = raw_input(\"Enter a year: \")\n",
    "\n",
    "print \"This morning %s woke up feeling %s. 'It is going to be a %s day!' Outside, a bunch of %ss were protesting to keep %s in stores. They began to %s to the rhythm of the %s, which made all the %ss very %s. Concerned, %s texted %s, who flew %s to %s and dropped %s in a puddle of frozen %s. %s woke up in the year %s, in a world where %ss ruled the world.\" % (name, adjective1, adjective2, animal, food, verb, noun1, fruit, adjective3, name, superhero, name, country, name, dessert, name, year, noun2)\n"
   ]
  }
 ],
 "metadata": {
  "kernelspec": {
   "display_name": "Python 2",
   "language": "python",
   "name": "python2"
  },
  "language_info": {
   "codemirror_mode": {
    "name": "ipython",
    "version": 2
   },
   "file_extension": ".py",
   "mimetype": "text/x-python",
   "name": "python",
   "nbconvert_exporter": "python",
   "pygments_lexer": "ipython2",
   "version": "2.7.16"
  }
 },
 "nbformat": 4,
 "nbformat_minor": 2
}
