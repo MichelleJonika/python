{
 "cells": [
  {
   "cell_type": "code",
   "execution_count": null,
   "metadata": {},
   "outputs": [],
   "source": [
    "# This program will help in the calculation of area for circles and triangles. THe program will prompt the user to select which shape they would like to calculate the area for. Then it will calculate the area of that shape and print that area for the user.\n",
    "\n",
    "print \"Program is running\"\n",
    "option = raw_input(\"Enter C for Circle or T for Triangle: \")\n",
    "if option == \"C\":\n",
    "  radius = float(raw_input(\"Enter radius: \"))\n",
    "  area_circle = 3.14159*(radius**2)\n",
    "  print area_circle\n",
    "elif option == \"T\":\n",
    "  base = float(raw_input(\"Enter base: \"))\n",
    "  height = float(raw_input(\"Enter height: \"))\n",
    "  area_triangle = 0.5*base*height\n",
    "  print area_triangle\n",
    "else: \n",
    "  print \"Invalid Shape\"\n",
    "\n",
    "print \"Program is exiting\""
   ]
  }
 ],
 "metadata": {
  "kernelspec": {
   "display_name": "Python 2",
   "language": "python",
   "name": "python2"
  },
  "language_info": {
   "codemirror_mode": {
    "name": "ipython",
    "version": 2
   },
   "file_extension": ".py",
   "mimetype": "text/x-python",
   "name": "python",
   "nbconvert_exporter": "python",
   "pygments_lexer": "ipython2",
   "version": "2.7.16"
  }
 },
 "nbformat": 4,
 "nbformat_minor": 2
}
